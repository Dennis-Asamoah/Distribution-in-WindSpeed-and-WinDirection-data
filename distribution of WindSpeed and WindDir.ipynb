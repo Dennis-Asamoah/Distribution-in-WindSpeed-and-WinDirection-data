{
 "cells": [
  {
   "cell_type": "code",
   "execution_count": 2,
   "metadata": {},
   "outputs": [],
   "source": [
    "import pandas as pd\n",
    "from fitter import Fitter \n",
    "import  scipy \n"
   ]
  },
  {
   "cell_type": "code",
   "execution_count": 4,
   "metadata": {},
   "outputs": [],
   "source": [
    "df=pd.read_csv('new1.csv')"
   ]
  },
  {
   "cell_type": "code",
   "execution_count": 5,
   "metadata": {},
   "outputs": [
    {
     "data": {
      "text/html": [
       "<div>\n",
       "<style scoped>\n",
       "    .dataframe tbody tr th:only-of-type {\n",
       "        vertical-align: middle;\n",
       "    }\n",
       "\n",
       "    .dataframe tbody tr th {\n",
       "        vertical-align: top;\n",
       "    }\n",
       "\n",
       "    .dataframe thead th {\n",
       "        text-align: right;\n",
       "    }\n",
       "</style>\n",
       "<table border=\"1\" class=\"dataframe\">\n",
       "  <thead>\n",
       "    <tr style=\"text-align: right;\">\n",
       "      <th></th>\n",
       "      <th>Unnamed: 0</th>\n",
       "      <th>date</th>\n",
       "      <th>time</th>\n",
       "      <th>month</th>\n",
       "      <th>WindSpeed</th>\n",
       "      <th>WindDir</th>\n",
       "    </tr>\n",
       "  </thead>\n",
       "  <tbody>\n",
       "    <tr>\n",
       "      <th>0</th>\n",
       "      <td>0</td>\n",
       "      <td>2015-01-01</td>\n",
       "      <td>00:00:00</td>\n",
       "      <td>1</td>\n",
       "      <td>2.230667</td>\n",
       "      <td>5.816667</td>\n",
       "    </tr>\n",
       "    <tr>\n",
       "      <th>1</th>\n",
       "      <td>1</td>\n",
       "      <td>2015-01-01</td>\n",
       "      <td>00:01:00</td>\n",
       "      <td>1</td>\n",
       "      <td>2.342167</td>\n",
       "      <td>10.050000</td>\n",
       "    </tr>\n",
       "    <tr>\n",
       "      <th>2</th>\n",
       "      <td>2</td>\n",
       "      <td>2015-01-01</td>\n",
       "      <td>00:02:00</td>\n",
       "      <td>1</td>\n",
       "      <td>2.362833</td>\n",
       "      <td>15.166670</td>\n",
       "    </tr>\n",
       "    <tr>\n",
       "      <th>3</th>\n",
       "      <td>3</td>\n",
       "      <td>2015-01-01</td>\n",
       "      <td>00:03:00</td>\n",
       "      <td>1</td>\n",
       "      <td>2.300333</td>\n",
       "      <td>15.433330</td>\n",
       "    </tr>\n",
       "    <tr>\n",
       "      <th>4</th>\n",
       "      <td>4</td>\n",
       "      <td>2015-01-01</td>\n",
       "      <td>00:04:00</td>\n",
       "      <td>1</td>\n",
       "      <td>2.366000</td>\n",
       "      <td>120.983299</td>\n",
       "    </tr>\n",
       "  </tbody>\n",
       "</table>\n",
       "</div>"
      ],
      "text/plain": [
       "   Unnamed: 0        date      time  month  WindSpeed     WindDir\n",
       "0           0  2015-01-01  00:00:00      1   2.230667    5.816667\n",
       "1           1  2015-01-01  00:01:00      1   2.342167   10.050000\n",
       "2           2  2015-01-01  00:02:00      1   2.362833   15.166670\n",
       "3           3  2015-01-01  00:03:00      1   2.300333   15.433330\n",
       "4           4  2015-01-01  00:04:00      1   2.366000  120.983299"
      ]
     },
     "execution_count": 5,
     "metadata": {},
     "output_type": "execute_result"
    }
   ],
   "source": [
    "df.head()"
   ]
  },
  {
   "cell_type": "code",
   "execution_count": 6,
   "metadata": {},
   "outputs": [
    {
     "data": {
      "text/html": [
       "<div>\n",
       "<style scoped>\n",
       "    .dataframe tbody tr th:only-of-type {\n",
       "        vertical-align: middle;\n",
       "    }\n",
       "\n",
       "    .dataframe tbody tr th {\n",
       "        vertical-align: top;\n",
       "    }\n",
       "\n",
       "    .dataframe thead th {\n",
       "        text-align: right;\n",
       "    }\n",
       "</style>\n",
       "<table border=\"1\" class=\"dataframe\">\n",
       "  <thead>\n",
       "    <tr style=\"text-align: right;\">\n",
       "      <th></th>\n",
       "      <th>Unnamed: 0</th>\n",
       "      <th>date</th>\n",
       "      <th>time</th>\n",
       "      <th>month</th>\n",
       "      <th>WindSpeed</th>\n",
       "      <th>WindDir</th>\n",
       "    </tr>\n",
       "  </thead>\n",
       "  <tbody>\n",
       "    <tr>\n",
       "      <th>476228</th>\n",
       "      <td>476228</td>\n",
       "      <td>2015-12-31</td>\n",
       "      <td>23:55:00</td>\n",
       "      <td>12</td>\n",
       "      <td>2.582000</td>\n",
       "      <td>14.266670</td>\n",
       "    </tr>\n",
       "    <tr>\n",
       "      <th>476229</th>\n",
       "      <td>476229</td>\n",
       "      <td>2015-12-31</td>\n",
       "      <td>23:56:00</td>\n",
       "      <td>12</td>\n",
       "      <td>2.486833</td>\n",
       "      <td>17.366671</td>\n",
       "    </tr>\n",
       "    <tr>\n",
       "      <th>476230</th>\n",
       "      <td>476230</td>\n",
       "      <td>2015-12-31</td>\n",
       "      <td>23:57:00</td>\n",
       "      <td>12</td>\n",
       "      <td>1.678167</td>\n",
       "      <td>29.783331</td>\n",
       "    </tr>\n",
       "    <tr>\n",
       "      <th>476231</th>\n",
       "      <td>476231</td>\n",
       "      <td>2015-12-31</td>\n",
       "      <td>23:58:00</td>\n",
       "      <td>12</td>\n",
       "      <td>1.785500</td>\n",
       "      <td>26.150000</td>\n",
       "    </tr>\n",
       "    <tr>\n",
       "      <th>476232</th>\n",
       "      <td>476232</td>\n",
       "      <td>2015-12-31</td>\n",
       "      <td>23:59:00</td>\n",
       "      <td>12</td>\n",
       "      <td>1.173666</td>\n",
       "      <td>38.183331</td>\n",
       "    </tr>\n",
       "  </tbody>\n",
       "</table>\n",
       "</div>"
      ],
      "text/plain": [
       "        Unnamed: 0        date      time  month  WindSpeed    WindDir\n",
       "476228      476228  2015-12-31  23:55:00     12   2.582000  14.266670\n",
       "476229      476229  2015-12-31  23:56:00     12   2.486833  17.366671\n",
       "476230      476230  2015-12-31  23:57:00     12   1.678167  29.783331\n",
       "476231      476231  2015-12-31  23:58:00     12   1.785500  26.150000\n",
       "476232      476232  2015-12-31  23:59:00     12   1.173666  38.183331"
      ]
     },
     "execution_count": 6,
     "metadata": {},
     "output_type": "execute_result"
    }
   ],
   "source": [
    "df.tail()"
   ]
  },
  {
   "cell_type": "code",
   "execution_count": 11,
   "metadata": {},
   "outputs": [
    {
     "data": {
      "text/html": [
       "<div>\n",
       "<style scoped>\n",
       "    .dataframe tbody tr th:only-of-type {\n",
       "        vertical-align: middle;\n",
       "    }\n",
       "\n",
       "    .dataframe tbody tr th {\n",
       "        vertical-align: top;\n",
       "    }\n",
       "\n",
       "    .dataframe thead th {\n",
       "        text-align: right;\n",
       "    }\n",
       "</style>\n",
       "<table border=\"1\" class=\"dataframe\">\n",
       "  <thead>\n",
       "    <tr style=\"text-align: right;\">\n",
       "      <th></th>\n",
       "      <th>date</th>\n",
       "      <th>Unnamed: 0</th>\n",
       "      <th>month</th>\n",
       "      <th>WindSpeed</th>\n",
       "      <th>WindDir</th>\n",
       "    </tr>\n",
       "  </thead>\n",
       "  <tbody>\n",
       "    <tr>\n",
       "      <th>0</th>\n",
       "      <td>2015-01-01</td>\n",
       "      <td>719.5</td>\n",
       "      <td>1.0</td>\n",
       "      <td>2.162307</td>\n",
       "      <td>118.871076</td>\n",
       "    </tr>\n",
       "    <tr>\n",
       "      <th>1</th>\n",
       "      <td>2015-01-02</td>\n",
       "      <td>2159.5</td>\n",
       "      <td>1.0</td>\n",
       "      <td>1.445121</td>\n",
       "      <td>162.897190</td>\n",
       "    </tr>\n",
       "    <tr>\n",
       "      <th>2</th>\n",
       "      <td>2015-01-03</td>\n",
       "      <td>3599.5</td>\n",
       "      <td>1.0</td>\n",
       "      <td>1.091435</td>\n",
       "      <td>179.649948</td>\n",
       "    </tr>\n",
       "    <tr>\n",
       "      <th>3</th>\n",
       "      <td>2015-01-04</td>\n",
       "      <td>5039.5</td>\n",
       "      <td>1.0</td>\n",
       "      <td>1.303321</td>\n",
       "      <td>229.649942</td>\n",
       "    </tr>\n",
       "    <tr>\n",
       "      <th>4</th>\n",
       "      <td>2015-01-05</td>\n",
       "      <td>6479.5</td>\n",
       "      <td>1.0</td>\n",
       "      <td>1.268354</td>\n",
       "      <td>170.641470</td>\n",
       "    </tr>\n",
       "    <tr>\n",
       "      <th>...</th>\n",
       "      <td>...</td>\n",
       "      <td>...</td>\n",
       "      <td>...</td>\n",
       "      <td>...</td>\n",
       "      <td>...</td>\n",
       "    </tr>\n",
       "    <tr>\n",
       "      <th>330</th>\n",
       "      <td>2015-12-27</td>\n",
       "      <td>469752.5</td>\n",
       "      <td>12.0</td>\n",
       "      <td>1.568090</td>\n",
       "      <td>166.252430</td>\n",
       "    </tr>\n",
       "    <tr>\n",
       "      <th>331</th>\n",
       "      <td>2015-12-28</td>\n",
       "      <td>471192.5</td>\n",
       "      <td>12.0</td>\n",
       "      <td>1.787997</td>\n",
       "      <td>134.740332</td>\n",
       "    </tr>\n",
       "    <tr>\n",
       "      <th>332</th>\n",
       "      <td>2015-12-29</td>\n",
       "      <td>472632.5</td>\n",
       "      <td>12.0</td>\n",
       "      <td>1.718000</td>\n",
       "      <td>148.066781</td>\n",
       "    </tr>\n",
       "    <tr>\n",
       "      <th>333</th>\n",
       "      <td>2015-12-30</td>\n",
       "      <td>474072.5</td>\n",
       "      <td>12.0</td>\n",
       "      <td>1.664040</td>\n",
       "      <td>141.961253</td>\n",
       "    </tr>\n",
       "    <tr>\n",
       "      <th>334</th>\n",
       "      <td>2015-12-31</td>\n",
       "      <td>475512.5</td>\n",
       "      <td>12.0</td>\n",
       "      <td>1.771382</td>\n",
       "      <td>138.414160</td>\n",
       "    </tr>\n",
       "  </tbody>\n",
       "</table>\n",
       "<p>335 rows × 5 columns</p>\n",
       "</div>"
      ],
      "text/plain": [
       "           date  Unnamed: 0  month  WindSpeed     WindDir\n",
       "0    2015-01-01       719.5    1.0   2.162307  118.871076\n",
       "1    2015-01-02      2159.5    1.0   1.445121  162.897190\n",
       "2    2015-01-03      3599.5    1.0   1.091435  179.649948\n",
       "3    2015-01-04      5039.5    1.0   1.303321  229.649942\n",
       "4    2015-01-05      6479.5    1.0   1.268354  170.641470\n",
       "..          ...         ...    ...        ...         ...\n",
       "330  2015-12-27    469752.5   12.0   1.568090  166.252430\n",
       "331  2015-12-28    471192.5   12.0   1.787997  134.740332\n",
       "332  2015-12-29    472632.5   12.0   1.718000  148.066781\n",
       "333  2015-12-30    474072.5   12.0   1.664040  141.961253\n",
       "334  2015-12-31    475512.5   12.0   1.771382  138.414160\n",
       "\n",
       "[335 rows x 5 columns]"
      ]
     },
     "execution_count": 11,
     "metadata": {},
     "output_type": "execute_result"
    }
   ],
   "source": [
    "# grouping by just the days and fiinding the average \n",
    "#of each. We do this this because our data is too large.\n",
    "df_days=df.groupby('date',as_index=False).mean()  \n",
    "df_days"
   ]
  },
  {
   "cell_type": "code",
   "execution_count": 14,
   "metadata": {},
   "outputs": [
    {
     "data": {
      "text/plain": [
       "0      2.162307\n",
       "1      1.445121\n",
       "2      1.091435\n",
       "3      1.303321\n",
       "4      1.268354\n",
       "         ...   \n",
       "330    1.568090\n",
       "331    1.787997\n",
       "332    1.718000\n",
       "333    1.664040\n",
       "334    1.771382\n",
       "Name: WindSpeed, Length: 335, dtype: float64"
      ]
     },
     "execution_count": 14,
     "metadata": {},
     "output_type": "execute_result"
    }
   ],
   "source": [
    "#now we will use Fitter to find out the best distribution\n",
    "# for both the windspeed and winddirection.\n",
    "#fitter by default will test 80 distribution,and find the best fit .\n",
    "#Also fitter is a wrapper around the scipy  library .\n",
    "windSpeed_data=df_days['WindSpeed'] # getting the windspeed  column\n",
    "windSpeed_data\n",
    "\n"
   ]
  },
  {
   "cell_type": "code",
   "execution_count": 15,
   "metadata": {},
   "outputs": [
    {
     "data": {
      "text/html": [
       "\n",
       "            <div style=\"float: left; border: 1px solid black; width:500px\">\n",
       "              <div id=\"6128cab4-37dd-4142-a3d4-04cdefc059a9\" style=\"background-color:blue; width:0%\">&nbsp;</div>\n",
       "            </div>\n",
       "            <label id=\"8c9b01af-749d-4c26-9004-8fe2bd30665f\" style=\"padding-left: 10px;\" text = \"\"/>\n",
       "            "
      ],
      "text/plain": [
       "<IPython.core.display.HTML object>"
      ]
     },
     "metadata": {},
     "output_type": "display_data"
    },
    {
     "name": "stderr",
     "output_type": "stream",
     "text": [
      "WARNING:root:SKIPPED rv_continuous distribution (taking more than 30 seconds)\n",
      "WARNING:root:SKIPPED rv_histogram distribution (taking more than 30 seconds)\n",
      "WARNING:root:SKIPPED levy_stable distribution (taking more than 30 seconds)\n"
     ]
    },
    {
     "data": {
      "text/html": [
       "<div>\n",
       "<style scoped>\n",
       "    .dataframe tbody tr th:only-of-type {\n",
       "        vertical-align: middle;\n",
       "    }\n",
       "\n",
       "    .dataframe tbody tr th {\n",
       "        vertical-align: top;\n",
       "    }\n",
       "\n",
       "    .dataframe thead th {\n",
       "        text-align: right;\n",
       "    }\n",
       "</style>\n",
       "<table border=\"1\" class=\"dataframe\">\n",
       "  <thead>\n",
       "    <tr style=\"text-align: right;\">\n",
       "      <th></th>\n",
       "      <th>sumsquare_error</th>\n",
       "      <th>aic</th>\n",
       "      <th>bic</th>\n",
       "      <th>kl_div</th>\n",
       "    </tr>\n",
       "  </thead>\n",
       "  <tbody>\n",
       "    <tr>\n",
       "      <th>norminvgauss</th>\n",
       "      <td>1.931390</td>\n",
       "      <td>620.597244</td>\n",
       "      <td>-1703.966764</td>\n",
       "      <td>inf</td>\n",
       "    </tr>\n",
       "    <tr>\n",
       "      <th>loglaplace</th>\n",
       "      <td>1.989071</td>\n",
       "      <td>637.049103</td>\n",
       "      <td>-1699.922638</td>\n",
       "      <td>inf</td>\n",
       "    </tr>\n",
       "    <tr>\n",
       "      <th>johnsonsu</th>\n",
       "      <td>2.032423</td>\n",
       "      <td>630.047428</td>\n",
       "      <td>-1686.885680</td>\n",
       "      <td>inf</td>\n",
       "    </tr>\n",
       "    <tr>\n",
       "      <th>cauchy</th>\n",
       "      <td>2.096173</td>\n",
       "      <td>631.494752</td>\n",
       "      <td>-1688.167588</td>\n",
       "      <td>inf</td>\n",
       "    </tr>\n",
       "    <tr>\n",
       "      <th>foldcauchy</th>\n",
       "      <td>2.208722</td>\n",
       "      <td>599.934789</td>\n",
       "      <td>-1664.832580</td>\n",
       "      <td>inf</td>\n",
       "    </tr>\n",
       "  </tbody>\n",
       "</table>\n",
       "</div>"
      ],
      "text/plain": [
       "              sumsquare_error         aic          bic  kl_div\n",
       "norminvgauss         1.931390  620.597244 -1703.966764     inf\n",
       "loglaplace           1.989071  637.049103 -1699.922638     inf\n",
       "johnsonsu            2.032423  630.047428 -1686.885680     inf\n",
       "cauchy               2.096173  631.494752 -1688.167588     inf\n",
       "foldcauchy           2.208722  599.934789 -1664.832580     inf"
      ]
     },
     "execution_count": 15,
     "metadata": {},
     "output_type": "execute_result"
    },
    {
     "data": {
      "image/png": "[encoded data removed]",
      "text/plain": [
       "<Figure size 432x288 with 1 Axes>"
      ]
     },
     "metadata": {
      "needs_background": "light"
     },
     "output_type": "display_data"
    }
   ],
   "source": [
    "f=Fitter(windSpeed_data)\n",
    "f.fit()\n",
    "#may take sometime, since by default it tries all the 80 distributions.\n",
    "#Then it finds the best 5 fits, by selecting the ones with \n",
    "#the lowest  sse(sum square error)\n",
    "f.summary()         "
   ]
  },
  {
   "cell_type": "code",
   "execution_count": 18,
   "metadata": {},
   "outputs": [
    {
     "data": {
      "text/html": [
       "\n",
       "            <div style=\"float: left; border: 1px solid black; width:500px\">\n",
       "              <div id=\"add06325-9b2c-44ae-b4e3-cc0ac7f146dd\" style=\"background-color:blue; width:0%\">&nbsp;</div>\n",
       "            </div>\n",
       "            <label id=\"eb984a6d-105d-432f-8939-00acaaf47223\" style=\"padding-left: 10px;\" text = \"\"/>\n",
       "            "
      ],
      "text/plain": [
       "<IPython.core.display.HTML object>"
      ]
     },
     "metadata": {},
     "output_type": "display_data"
    },
    {
     "data": {
      "text/html": [
       "<div>\n",
       "<style scoped>\n",
       "    .dataframe tbody tr th:only-of-type {\n",
       "        vertical-align: middle;\n",
       "    }\n",
       "\n",
       "    .dataframe tbody tr th {\n",
       "        vertical-align: top;\n",
       "    }\n",
       "\n",
       "    .dataframe thead th {\n",
       "        text-align: right;\n",
       "    }\n",
       "</style>\n",
       "<table border=\"1\" class=\"dataframe\">\n",
       "  <thead>\n",
       "    <tr style=\"text-align: right;\">\n",
       "      <th></th>\n",
       "      <th>sumsquare_error</th>\n",
       "      <th>aic</th>\n",
       "      <th>bic</th>\n",
       "      <th>kl_div</th>\n",
       "    </tr>\n",
       "  </thead>\n",
       "  <tbody>\n",
       "    <tr>\n",
       "      <th>norminvgauss</th>\n",
       "      <td>1.93139</td>\n",
       "      <td>620.597244</td>\n",
       "      <td>-1703.966764</td>\n",
       "      <td>inf</td>\n",
       "    </tr>\n",
       "  </tbody>\n",
       "</table>\n",
       "</div>"
      ],
      "text/plain": [
       "              sumsquare_error         aic          bic  kl_div\n",
       "norminvgauss          1.93139  620.597244 -1703.966764     inf"
      ]
     },
     "execution_count": 18,
     "metadata": {},
     "output_type": "execute_result"
    },
    {
     "data": {
      "image/png": "[encoded data removed]",
      "text/plain": [
       "<Figure size 432x288 with 1 Axes>"
      ]
     },
     "metadata": {
      "needs_background": "light"
     },
     "output_type": "display_data"
    },
    {
     "name": "stderr",
     "output_type": "stream",
     "text": [
      "c:\\program files (x86)\\python37-32\\lib\\site-packages\\scipy\\stats\\_continuous_distns.py:4357: IntegrationWarning: The integral is probably divergent, or slowly convergent.\n",
      "  intg = integrate.quad(f, -xi, np.pi/2, **intg_kwargs)[0]\n"
     ]
    }
   ],
   "source": [
    "#from our results , on the cell above, norminvgauss is the beat \n",
    "#fit with a ssq of 1.931.\n",
    "#lets use it alone in fitter \n",
    "d=Fitter(windSpeed_data,distributions=['norminvgauss'])\n",
    "d.fit()\n",
    "d.summary()"
   ]
  },
  {
   "cell_type": "code",
   "execution_count": 19,
   "metadata": {},
   "outputs": [
    {
     "data": {
      "text/html": [
       "<div>\n",
       "<style scoped>\n",
       "    .dataframe tbody tr th:only-of-type {\n",
       "        vertical-align: middle;\n",
       "    }\n",
       "\n",
       "    .dataframe tbody tr th {\n",
       "        vertical-align: top;\n",
       "    }\n",
       "\n",
       "    .dataframe thead th {\n",
       "        text-align: right;\n",
       "    }\n",
       "</style>\n",
       "<table border=\"1\" class=\"dataframe\">\n",
       "  <thead>\n",
       "    <tr style=\"text-align: right;\">\n",
       "      <th></th>\n",
       "      <th>month</th>\n",
       "      <th>Unnamed: 0</th>\n",
       "      <th>WindSpeed</th>\n",
       "      <th>WindDir</th>\n",
       "    </tr>\n",
       "  </thead>\n",
       "  <tbody>\n",
       "    <tr>\n",
       "      <th>0</th>\n",
       "      <td>1</td>\n",
       "      <td>22311.0</td>\n",
       "      <td>1.569017</td>\n",
       "      <td>167.988547</td>\n",
       "    </tr>\n",
       "    <tr>\n",
       "      <th>1</th>\n",
       "      <td>2</td>\n",
       "      <td>64739.0</td>\n",
       "      <td>1.951183</td>\n",
       "      <td>154.489590</td>\n",
       "    </tr>\n",
       "    <tr>\n",
       "      <th>2</th>\n",
       "      <td>3</td>\n",
       "      <td>107056.5</td>\n",
       "      <td>1.947394</td>\n",
       "      <td>159.157979</td>\n",
       "    </tr>\n",
       "    <tr>\n",
       "      <th>3</th>\n",
       "      <td>4</td>\n",
       "      <td>150851.5</td>\n",
       "      <td>2.171208</td>\n",
       "      <td>164.982720</td>\n",
       "    </tr>\n",
       "    <tr>\n",
       "      <th>4</th>\n",
       "      <td>5</td>\n",
       "      <td>194760.5</td>\n",
       "      <td>2.407888</td>\n",
       "      <td>177.659845</td>\n",
       "    </tr>\n",
       "    <tr>\n",
       "      <th>5</th>\n",
       "      <td>6</td>\n",
       "      <td>238526.0</td>\n",
       "      <td>1.980609</td>\n",
       "      <td>168.037529</td>\n",
       "    </tr>\n",
       "    <tr>\n",
       "      <th>6</th>\n",
       "      <td>7</td>\n",
       "      <td>281046.0</td>\n",
       "      <td>1.538217</td>\n",
       "      <td>159.252245</td>\n",
       "    </tr>\n",
       "    <tr>\n",
       "      <th>7</th>\n",
       "      <td>8</td>\n",
       "      <td>319023.0</td>\n",
       "      <td>1.415652</td>\n",
       "      <td>165.372890</td>\n",
       "    </tr>\n",
       "    <tr>\n",
       "      <th>8</th>\n",
       "      <td>9</td>\n",
       "      <td>339901.5</td>\n",
       "      <td>1.527249</td>\n",
       "      <td>172.354932</td>\n",
       "    </tr>\n",
       "    <tr>\n",
       "      <th>9</th>\n",
       "      <td>10</td>\n",
       "      <td>366137.0</td>\n",
       "      <td>1.673735</td>\n",
       "      <td>147.628681</td>\n",
       "    </tr>\n",
       "    <tr>\n",
       "      <th>10</th>\n",
       "      <td>11</td>\n",
       "      <td>409997.0</td>\n",
       "      <td>1.664970</td>\n",
       "      <td>150.140491</td>\n",
       "    </tr>\n",
       "    <tr>\n",
       "      <th>11</th>\n",
       "      <td>12</td>\n",
       "      <td>453912.5</td>\n",
       "      <td>1.678511</td>\n",
       "      <td>144.985094</td>\n",
       "    </tr>\n",
       "  </tbody>\n",
       "</table>\n",
       "</div>"
      ],
      "text/plain": [
       "    month  Unnamed: 0  WindSpeed     WindDir\n",
       "0       1     22311.0   1.569017  167.988547\n",
       "1       2     64739.0   1.951183  154.489590\n",
       "2       3    107056.5   1.947394  159.157979\n",
       "3       4    150851.5   2.171208  164.982720\n",
       "4       5    194760.5   2.407888  177.659845\n",
       "5       6    238526.0   1.980609  168.037529\n",
       "6       7    281046.0   1.538217  159.252245\n",
       "7       8    319023.0   1.415652  165.372890\n",
       "8       9    339901.5   1.527249  172.354932\n",
       "9      10    366137.0   1.673735  147.628681\n",
       "10     11    409997.0   1.664970  150.140491\n",
       "11     12    453912.5   1.678511  144.985094"
      ]
     },
     "execution_count": 19,
     "metadata": {},
     "output_type": "execute_result"
    },
    {
     "name": "stderr",
     "output_type": "stream",
     "text": [
      "c:\\program files (x86)\\python37-32\\lib\\site-packages\\scipy\\stats\\_continuous_distns.py:4357: IntegrationWarning: The algorithm does not converge.  Roundoff error is detected\n",
      "  in the extrapolation table.  It is assumed that the requested tolerance\n",
      "  cannot be achieved, and that the returned result (if full_output = 1) is \n",
      "  the best which can be obtained.\n",
      "  intg = integrate.quad(f, -xi, np.pi/2, **intg_kwargs)[0]\n"
     ]
    }
   ],
   "source": [
    "# Now we group by just the months and fiinding the average \n",
    "#for each.\n",
    "df_months=df.groupby('month',as_index=False).mean()  \n",
    "df_months"
   ]
  },
  {
   "cell_type": "code",
   "execution_count": 21,
   "metadata": {},
   "outputs": [
    {
     "data": {
      "text/plain": [
       "0     1.569017\n",
       "1     1.951183\n",
       "2     1.947394\n",
       "3     2.171208\n",
       "4     2.407888\n",
       "5     1.980609\n",
       "6     1.538217\n",
       "7     1.415652\n",
       "8     1.527249\n",
       "9     1.673735\n",
       "10    1.664970\n",
       "11    1.678511\n",
       "Name: WindSpeed, dtype: float64"
      ]
     },
     "execution_count": 21,
     "metadata": {},
     "output_type": "execute_result"
    }
   ],
   "source": [
    "windSpeed_data_months=df_months['WindSpeed'] # getting the windspeed  column\n",
    "windSpeed_data_months\n"
   ]
  },
  {
   "cell_type": "code",
   "execution_count": 22,
   "metadata": {},
   "outputs": [
    {
     "data": {
      "text/html": [
       "\n",
       "            <div style=\"float: left; border: 1px solid black; width:500px\">\n",
       "              <div id=\"e047132e-931c-4e57-87d0-f11b68a922e7\" style=\"background-color:blue; width:0%\">&nbsp;</div>\n",
       "            </div>\n",
       "            <label id=\"2b611451-78f9-4251-a2a5-5649428993f0\" style=\"padding-left: 10px;\" text = \"\"/>\n",
       "            "
      ],
      "text/plain": [
       "<IPython.core.display.HTML object>"
      ]
     },
     "metadata": {},
     "output_type": "display_data"
    },
    {
     "name": "stderr",
     "output_type": "stream",
     "text": [
      "WARNING:root:SKIPPED rv_continuous distribution (taking more than 30 seconds)\n",
      "WARNING:root:SKIPPED rv_histogram distribution (taking more than 30 seconds)\n",
      "WARNING:root:SKIPPED levy_stable distribution (taking more than 30 seconds)\n"
     ]
    },
    {
     "data": {
      "text/html": [
       "<div>\n",
       "<style scoped>\n",
       "    .dataframe tbody tr th:only-of-type {\n",
       "        vertical-align: middle;\n",
       "    }\n",
       "\n",
       "    .dataframe tbody tr th {\n",
       "        vertical-align: top;\n",
       "    }\n",
       "\n",
       "    .dataframe thead th {\n",
       "        text-align: right;\n",
       "    }\n",
       "</style>\n",
       "<table border=\"1\" class=\"dataframe\">\n",
       "  <thead>\n",
       "    <tr style=\"text-align: right;\">\n",
       "      <th></th>\n",
       "      <th>sumsquare_error</th>\n",
       "      <th>aic</th>\n",
       "      <th>bic</th>\n",
       "      <th>kl_div</th>\n",
       "    </tr>\n",
       "  </thead>\n",
       "  <tbody>\n",
       "    <tr>\n",
       "      <th>gennorm</th>\n",
       "      <td>867.539235</td>\n",
       "      <td>235.829857</td>\n",
       "      <td>58.823769</td>\n",
       "      <td>inf</td>\n",
       "    </tr>\n",
       "    <tr>\n",
       "      <th>johnsonsb</th>\n",
       "      <td>979.997847</td>\n",
       "      <td>227.735797</td>\n",
       "      <td>62.771351</td>\n",
       "      <td>inf</td>\n",
       "    </tr>\n",
       "    <tr>\n",
       "      <th>arcsine</th>\n",
       "      <td>980.935925</td>\n",
       "      <td>32.079378</td>\n",
       "      <td>57.813019</td>\n",
       "      <td>inf</td>\n",
       "    </tr>\n",
       "    <tr>\n",
       "      <th>dgamma</th>\n",
       "      <td>994.765941</td>\n",
       "      <td>119.496670</td>\n",
       "      <td>60.465930</td>\n",
       "      <td>inf</td>\n",
       "    </tr>\n",
       "    <tr>\n",
       "      <th>beta</th>\n",
       "      <td>1003.776585</td>\n",
       "      <td>34.936604</td>\n",
       "      <td>63.059044</td>\n",
       "      <td>inf</td>\n",
       "    </tr>\n",
       "  </tbody>\n",
       "</table>\n",
       "</div>"
      ],
      "text/plain": [
       "           sumsquare_error         aic        bic  kl_div\n",
       "gennorm         867.539235  235.829857  58.823769     inf\n",
       "johnsonsb       979.997847  227.735797  62.771351     inf\n",
       "arcsine         980.935925   32.079378  57.813019     inf\n",
       "dgamma          994.765941  119.496670  60.465930     inf\n",
       "beta           1003.776585   34.936604  63.059044     inf"
      ]
     },
     "execution_count": 22,
     "metadata": {},
     "output_type": "execute_result"
    },
    {
     "data": {
      "image/png": "[encoded data removed]",
      "text/plain": [
       "<Figure size 432x288 with 1 Axes>"
      ]
     },
     "metadata": {
      "needs_background": "light"
     },
     "output_type": "display_data"
    }
   ],
   "source": [
    "f=Fitter(windSpeed_data_months) # fitting for the months\n",
    "f.fit()\n",
    "#may take sometime, since by default it tries all the 80 distributions.\n",
    "#Then it finds the best 5 fits, by selecting the ones with \n",
    "#the lowest  sse(sum square error)\n",
    "f.summary() "
   ]
  },
  {
   "cell_type": "code",
   "execution_count": 23,
   "metadata": {},
   "outputs": [],
   "source": [
    "# from the above cell , the sum square errors are way too large , even for the best fit ."
   ]
  },
  {
   "cell_type": "code",
   "execution_count": 28,
   "metadata": {},
   "outputs": [
    {
     "data": {
      "text/html": [
       "\n",
       "            <div style=\"float: left; border: 1px solid black; width:500px\">\n",
       "              <div id=\"2e64bd73-b37f-4f95-b9de-0b93946581f9\" style=\"background-color:blue; width:0%\">&nbsp;</div>\n",
       "            </div>\n",
       "            <label id=\"7e3300d4-127e-4f90-bd76-e2ed8f7e13f6\" style=\"padding-left: 10px;\" text = \"\"/>\n",
       "            "
      ],
      "text/plain": [
       "<IPython.core.display.HTML object>"
      ]
     },
     "metadata": {},
     "output_type": "display_data"
    },
    {
     "name": "stderr",
     "output_type": "stream",
     "text": [
      "WARNING:root:SKIPPED kappa4 distribution (taking more than 30 seconds)\n",
      "WARNING:root:SKIPPED ksone distribution (taking more than 30 seconds)\n",
      "WARNING:root:SKIPPED levy_stable distribution (taking more than 30 seconds)\n",
      "WARNING:root:SKIPPED loggamma distribution (taking more than 30 seconds)\n",
      "WARNING:root:SKIPPED ncf distribution (taking more than 30 seconds)\n",
      "WARNING:root:SKIPPED nct distribution (taking more than 30 seconds)\n",
      "WARNING:root:SKIPPED ncx2 distribution (taking more than 30 seconds)\n",
      "WARNING:root:SKIPPED norminvgauss distribution (taking more than 30 seconds)\n",
      "WARNING:root:SKIPPED pareto distribution (taking more than 30 seconds)\n",
      "WARNING:root:SKIPPED powerlognorm distribution (taking more than 30 seconds)\n",
      "WARNING:root:SKIPPED powernorm distribution (taking more than 30 seconds)\n",
      "WARNING:root:SKIPPED rdist distribution (taking more than 30 seconds)\n",
      "WARNING:root:SKIPPED rv_continuous distribution (taking more than 30 seconds)\n",
      "WARNING:root:SKIPPED rv_histogram distribution (taking more than 30 seconds)\n",
      "WARNING:root:SKIPPED recipinvgauss distribution (taking more than 30 seconds)\n",
      "WARNING:root:SKIPPED rice distribution (taking more than 30 seconds)\n",
      "WARNING:root:SKIPPED triang distribution (taking more than 30 seconds)\n",
      "WARNING:root:SKIPPED truncnorm distribution (taking more than 30 seconds)\n",
      "WARNING:root:SKIPPED tukeylambda distribution (taking more than 30 seconds)\n",
      "WARNING:root:SKIPPED vonmises distribution (taking more than 30 seconds)\n",
      "WARNING:root:SKIPPED vonmises_line distribution (taking more than 30 seconds)\n",
      "WARNING:root:SKIPPED weibull_max distribution (taking more than 30 seconds)\n"
     ]
    },
    {
     "data": {
      "text/html": [
       "<div>\n",
       "<style scoped>\n",
       "    .dataframe tbody tr th:only-of-type {\n",
       "        vertical-align: middle;\n",
       "    }\n",
       "\n",
       "    .dataframe tbody tr th {\n",
       "        vertical-align: top;\n",
       "    }\n",
       "\n",
       "    .dataframe thead th {\n",
       "        text-align: right;\n",
       "    }\n",
       "</style>\n",
       "<table border=\"1\" class=\"dataframe\">\n",
       "  <thead>\n",
       "    <tr style=\"text-align: right;\">\n",
       "      <th></th>\n",
       "      <th>sumsquare_error</th>\n",
       "      <th>aic</th>\n",
       "      <th>bic</th>\n",
       "      <th>kl_div</th>\n",
       "    </tr>\n",
       "  </thead>\n",
       "  <tbody>\n",
       "    <tr>\n",
       "      <th>exponweib</th>\n",
       "      <td>0.084274</td>\n",
       "      <td>543.990246</td>\n",
       "      <td>-116803.415157</td>\n",
       "      <td>inf</td>\n",
       "    </tr>\n",
       "    <tr>\n",
       "      <th>gengamma</th>\n",
       "      <td>0.084457</td>\n",
       "      <td>543.179216</td>\n",
       "      <td>-116781.642538</td>\n",
       "      <td>inf</td>\n",
       "    </tr>\n",
       "    <tr>\n",
       "      <th>nakagami</th>\n",
       "      <td>0.092416</td>\n",
       "      <td>527.506145</td>\n",
       "      <td>-115890.371646</td>\n",
       "      <td>inf</td>\n",
       "    </tr>\n",
       "    <tr>\n",
       "      <th>chi</th>\n",
       "      <td>0.092418</td>\n",
       "      <td>527.511467</td>\n",
       "      <td>-115890.157218</td>\n",
       "      <td>inf</td>\n",
       "    </tr>\n",
       "    <tr>\n",
       "      <th>weibull_min</th>\n",
       "      <td>0.100407</td>\n",
       "      <td>524.876138</td>\n",
       "      <td>-115060.999544</td>\n",
       "      <td>inf</td>\n",
       "    </tr>\n",
       "  </tbody>\n",
       "</table>\n",
       "</div>"
      ],
      "text/plain": [
       "             sumsquare_error         aic            bic  kl_div\n",
       "exponweib           0.084274  543.990246 -116803.415157     inf\n",
       "gengamma            0.084457  543.179216 -116781.642538     inf\n",
       "nakagami            0.092416  527.506145 -115890.371646     inf\n",
       "chi                 0.092418  527.511467 -115890.157218     inf\n",
       "weibull_min         0.100407  524.876138 -115060.999544     inf"
      ]
     },
     "execution_count": 28,
     "metadata": {},
     "output_type": "execute_result"
    },
    {
     "data": {
      "image/png": "[encoded data removed]",
      "text/plain": [
       "<Figure size 432x288 with 1 Axes>"
      ]
     },
     "metadata": {
      "needs_background": "light"
     },
     "output_type": "display_data"
    }
   ],
   "source": [
    "s=Fitter(df['WindSpeed'][:10000]) # tried with only the first  10,000 values\n",
    "s.fit()\n",
    "s.summary()"
   ]
  },
  {
   "cell_type": "code",
   "execution_count": 31,
   "metadata": {},
   "outputs": [
    {
     "data": {
      "text/html": [
       "\n",
       "            <div style=\"float: left; border: 1px solid black; width:500px\">\n",
       "              <div id=\"81b1355c-37c4-4ec3-9ff2-49cc2ae12925\" style=\"background-color:blue; width:0%\">&nbsp;</div>\n",
       "            </div>\n",
       "            <label id=\"55f2233d-ed88-4027-9b56-66064d4ac8fb\" style=\"padding-left: 10px;\" text = \"\"/>\n",
       "            "
      ],
      "text/plain": [
       "<IPython.core.display.HTML object>"
      ]
     },
     "metadata": {},
     "output_type": "display_data"
    },
    {
     "name": "stderr",
     "output_type": "stream",
     "text": [
      "WARNING:root:SKIPPED anglit distribution (taking more than 30 seconds)\n",
      "WARNING:root:SKIPPED arcsine distribution (taking more than 30 seconds)\n",
      "WARNING:root:SKIPPED alpha distribution (taking more than 30 seconds)\n",
      "WARNING:root:SKIPPED beta distribution (taking more than 30 seconds)\n",
      "WARNING:root:SKIPPED betaprime distribution (taking more than 30 seconds)\n",
      "WARNING:root:SKIPPED bradford distribution (taking more than 30 seconds)\n",
      "WARNING:root:SKIPPED burr distribution (taking more than 30 seconds)\n",
      "WARNING:root:SKIPPED burr12 distribution (taking more than 30 seconds)\n",
      "WARNING:root:SKIPPED cauchy distribution (taking more than 30 seconds)\n",
      "WARNING:root:SKIPPED chi distribution (taking more than 30 seconds)\n",
      "WARNING:root:SKIPPED chi2 distribution (taking more than 30 seconds)\n",
      "WARNING:root:SKIPPED cosine distribution (taking more than 30 seconds)\n",
      "WARNING:root:SKIPPED crystalball distribution (taking more than 30 seconds)\n",
      "WARNING:root:SKIPPED dgamma distribution (taking more than 30 seconds)\n",
      "WARNING:root:SKIPPED dweibull distribution (taking more than 30 seconds)\n",
      "WARNING:root:SKIPPED erlang distribution (taking more than 30 seconds)\n",
      "WARNING:root:SKIPPED expon distribution (taking more than 30 seconds)\n",
      "WARNING:root:SKIPPED exponnorm distribution (taking more than 30 seconds)\n",
      "WARNING:root:SKIPPED f distribution (taking more than 30 seconds)\n",
      "WARNING:root:SKIPPED fatiguelife distribution (taking more than 30 seconds)\n",
      "WARNING:root:SKIPPED fisk distribution (taking more than 30 seconds)\n",
      "WARNING:root:SKIPPED foldcauchy distribution (taking more than 30 seconds)\n",
      "WARNING:root:SKIPPED foldnorm distribution (taking more than 30 seconds)\n",
      "WARNING:root:SKIPPED argus distribution (taking more than 30 seconds)\n",
      "WARNING:root:SKIPPED frechet_l distribution (taking more than 30 seconds)\n",
      "WARNING:root:SKIPPED exponpow distribution (taking more than 30 seconds)\n",
      "WARNING:root:SKIPPED frechet_r distribution (taking more than 30 seconds)\n",
      "WARNING:root:SKIPPED exponweib distribution (taking more than 30 seconds)\n",
      "WARNING:root:SKIPPED gamma distribution (taking more than 30 seconds)\n",
      "WARNING:root:SKIPPED gausshyper distribution (taking more than 30 seconds)\n",
      "WARNING:root:SKIPPED genextreme distribution (taking more than 30 seconds)\n",
      "WARNING:root:SKIPPED gengamma distribution (taking more than 30 seconds)\n",
      "WARNING:root:SKIPPED genhalflogistic distribution (taking more than 30 seconds)\n",
      "WARNING:root:SKIPPED geninvgauss distribution (taking more than 30 seconds)\n",
      "WARNING:root:SKIPPED genlogistic distribution (taking more than 30 seconds)\n",
      "WARNING:root:SKIPPED gennorm distribution (taking more than 30 seconds)\n",
      "WARNING:root:SKIPPED genpareto distribution (taking more than 30 seconds)\n",
      "WARNING:root:SKIPPED gilbrat distribution (taking more than 30 seconds)\n",
      "WARNING:root:SKIPPED gumbel_l distribution (taking more than 30 seconds)\n",
      "WARNING:root:SKIPPED gumbel_r distribution (taking more than 30 seconds)\n",
      "WARNING:root:SKIPPED halfcauchy distribution (taking more than 30 seconds)\n",
      "WARNING:root:SKIPPED halflogistic distribution (taking more than 30 seconds)\n",
      "WARNING:root:SKIPPED halfnorm distribution (taking more than 30 seconds)\n",
      "WARNING:root:SKIPPED hypsecant distribution (taking more than 30 seconds)\n",
      "WARNING:root:SKIPPED invgamma distribution (taking more than 30 seconds)\n",
      "WARNING:root:SKIPPED invgauss distribution (taking more than 30 seconds)\n",
      "WARNING:root:SKIPPED gompertz distribution (taking more than 30 seconds)\n",
      "WARNING:root:SKIPPED invweibull distribution (taking more than 30 seconds)\n",
      "WARNING:root:SKIPPED halfgennorm distribution (taking more than 30 seconds)\n",
      "WARNING:root:SKIPPED kappa3 distribution (taking more than 30 seconds)\n",
      "WARNING:root:SKIPPED kappa4 distribution (taking more than 30 seconds)\n",
      "WARNING:root:SKIPPED ksone distribution (taking more than 30 seconds)\n",
      "WARNING:root:SKIPPED kstwobign distribution (taking more than 30 seconds)\n",
      "WARNING:root:SKIPPED laplace distribution (taking more than 30 seconds)\n",
      "WARNING:root:SKIPPED johnsonsu distribution (taking more than 30 seconds)\n",
      "WARNING:root:SKIPPED levy distribution (taking more than 30 seconds)\n",
      "WARNING:root:SKIPPED levy_l distribution (taking more than 30 seconds)\n",
      "WARNING:root:SKIPPED johnsonsb distribution (taking more than 30 seconds)\n",
      "WARNING:root:SKIPPED loggamma distribution (taking more than 30 seconds)\n",
      "WARNING:root:SKIPPED levy_stable distribution (taking more than 30 seconds)\n",
      "WARNING:root:SKIPPED loglaplace distribution (taking more than 30 seconds)\n",
      "WARNING:root:SKIPPED logistic distribution (taking more than 30 seconds)\n",
      "WARNING:root:SKIPPED lognorm distribution (taking more than 30 seconds)\n",
      "WARNING:root:SKIPPED lomax distribution (taking more than 30 seconds)\n",
      "WARNING:root:SKIPPED maxwell distribution (taking more than 30 seconds)\n",
      "WARNING:root:SKIPPED mielke distribution (taking more than 30 seconds)\n",
      "WARNING:root:SKIPPED moyal distribution (taking more than 30 seconds)\n",
      "WARNING:root:SKIPPED nakagami distribution (taking more than 30 seconds)\n",
      "WARNING:root:SKIPPED ncf distribution (taking more than 30 seconds)\n",
      "WARNING:root:SKIPPED nct distribution (taking more than 30 seconds)\n",
      "WARNING:root:SKIPPED ncx2 distribution (taking more than 30 seconds)\n",
      "WARNING:root:SKIPPED norminvgauss distribution (taking more than 30 seconds)\n",
      "WARNING:root:SKIPPED pareto distribution (taking more than 30 seconds)\n",
      "WARNING:root:SKIPPED pearson3 distribution (taking more than 30 seconds)\n",
      "WARNING:root:SKIPPED powerlaw distribution (taking more than 30 seconds)\n",
      "WARNING:root:SKIPPED rayleigh distribution (taking more than 30 seconds)\n",
      "WARNING:root:SKIPPED rdist distribution (taking more than 30 seconds)\n",
      "WARNING:root:SKIPPED powernorm distribution (taking more than 30 seconds)\n",
      "WARNING:root:SKIPPED rice distribution (taking more than 30 seconds)\n",
      "WARNING:root:SKIPPED rv_continuous distribution (taking more than 30 seconds)\n",
      "WARNING:root:SKIPPED rv_histogram distribution (taking more than 30 seconds)\n",
      "WARNING:root:SKIPPED genexpon distribution (taking more than 30 seconds)\n",
      "WARNING:root:SKIPPED semicircular distribution (taking more than 30 seconds)\n",
      "WARNING:root:SKIPPED skewnorm distribution (taking more than 30 seconds)\n",
      "WARNING:root:SKIPPED t distribution (taking more than 30 seconds)\n",
      "WARNING:root:SKIPPED triang distribution (taking more than 30 seconds)\n",
      "WARNING:root:SKIPPED truncexpon distribution (taking more than 30 seconds)\n",
      "WARNING:root:SKIPPED tukeylambda distribution (taking more than 30 seconds)\n",
      "WARNING:root:SKIPPED uniform distribution (taking more than 30 seconds)\n",
      "WARNING:root:SKIPPED powerlognorm distribution (taking more than 30 seconds)\n",
      "WARNING:root:SKIPPED trapz distribution (taking more than 30 seconds)\n",
      "WARNING:root:SKIPPED wald distribution (taking more than 30 seconds)\n",
      "WARNING:root:SKIPPED weibull_max distribution (taking more than 30 seconds)\n",
      "WARNING:root:SKIPPED weibull_min distribution (taking more than 30 seconds)\n",
      "WARNING:root:SKIPPED wrapcauchy distribution (taking more than 30 seconds)\n",
      "WARNING:root:SKIPPED recipinvgauss distribution (taking more than 30 seconds)\n",
      "WARNING:root:SKIPPED vonmises_line distribution (taking more than 30 seconds)\n",
      "WARNING:root:SKIPPED vonmises distribution (taking more than 30 seconds)\n",
      "WARNING:fitter.fitter:anglit was not fitted. no parameters available\n",
      "WARNING:fitter.fitter:ncx2 was not fitted. no parameters available\n",
      "WARNING:fitter.fitter:nct was not fitted. no parameters available\n",
      "WARNING:fitter.fitter:ncf was not fitted. no parameters available\n",
      "WARNING:fitter.fitter:nakagami was not fitted. no parameters available\n",
      "WARNING:matplotlib.legend:No handles with labels found to put in legend.\n"
     ]
    },
    {
     "data": {
      "text/html": [
       "<div>\n",
       "<style scoped>\n",
       "    .dataframe tbody tr th:only-of-type {\n",
       "        vertical-align: middle;\n",
       "    }\n",
       "\n",
       "    .dataframe tbody tr th {\n",
       "        vertical-align: top;\n",
       "    }\n",
       "\n",
       "    .dataframe thead th {\n",
       "        text-align: right;\n",
       "    }\n",
       "</style>\n",
       "<table border=\"1\" class=\"dataframe\">\n",
       "  <thead>\n",
       "    <tr style=\"text-align: right;\">\n",
       "      <th></th>\n",
       "      <th>sumsquare_error</th>\n",
       "      <th>aic</th>\n",
       "      <th>bic</th>\n",
       "      <th>kl_div</th>\n",
       "    </tr>\n",
       "  </thead>\n",
       "  <tbody>\n",
       "    <tr>\n",
       "      <th>anglit</th>\n",
       "      <td>inf</td>\n",
       "      <td>inf</td>\n",
       "      <td>inf</td>\n",
       "      <td>inf</td>\n",
       "    </tr>\n",
       "    <tr>\n",
       "      <th>ncx2</th>\n",
       "      <td>inf</td>\n",
       "      <td>inf</td>\n",
       "      <td>inf</td>\n",
       "      <td>inf</td>\n",
       "    </tr>\n",
       "    <tr>\n",
       "      <th>nct</th>\n",
       "      <td>inf</td>\n",
       "      <td>inf</td>\n",
       "      <td>inf</td>\n",
       "      <td>inf</td>\n",
       "    </tr>\n",
       "    <tr>\n",
       "      <th>ncf</th>\n",
       "      <td>inf</td>\n",
       "      <td>inf</td>\n",
       "      <td>inf</td>\n",
       "      <td>inf</td>\n",
       "    </tr>\n",
       "    <tr>\n",
       "      <th>nakagami</th>\n",
       "      <td>inf</td>\n",
       "      <td>inf</td>\n",
       "      <td>inf</td>\n",
       "      <td>inf</td>\n",
       "    </tr>\n",
       "  </tbody>\n",
       "</table>\n",
       "</div>"
      ],
      "text/plain": [
       "          sumsquare_error  aic  bic  kl_div\n",
       "anglit                inf  inf  inf     inf\n",
       "ncx2                  inf  inf  inf     inf\n",
       "nct                   inf  inf  inf     inf\n",
       "ncf                   inf  inf  inf     inf\n",
       "nakagami              inf  inf  inf     inf"
      ]
     },
     "execution_count": 31,
     "metadata": {},
     "output_type": "execute_result"
    },
    {
     "data": {
      "image/png": "[encoded data removed]",
      "text/plain": [
       "<Figure size 432x288 with 1 Axes>"
      ]
     },
     "metadata": {
      "needs_background": "light"
     },
     "output_type": "display_data"
    },
    {
     "name": "stderr",
     "output_type": "stream",
     "text": [
      "c:\\program files (x86)\\python37-32\\lib\\site-packages\\scipy\\stats\\_continuous_distns.py:4357: IntegrationWarning: The integral is probably divergent, or slowly convergent.\n",
      "  intg = integrate.quad(f, -xi, np.pi/2, **intg_kwargs)[0]\n"
     ]
    }
   ],
   "source": [
    "s=Fitter(df['WindSpeed']) # tried for all the values  of the winnspeed and didnt find a best  fit  \n",
    "s.fit()\n",
    "s.summary()"
   ]
  },
  {
   "cell_type": "code",
   "execution_count": 32,
   "metadata": {},
   "outputs": [
    {
     "data": {
      "text/plain": [
       "0      118.871076\n",
       "1      162.897190\n",
       "2      179.649948\n",
       "3      229.649942\n",
       "4      170.641470\n",
       "          ...    \n",
       "330    166.252430\n",
       "331    134.740332\n",
       "332    148.066781\n",
       "333    141.961253\n",
       "334    138.414160\n",
       "Name: WindDir, Length: 335, dtype: float64"
      ]
     },
     "execution_count": 32,
     "metadata": {},
     "output_type": "execute_result"
    }
   ],
   "source": [
    "#Now for the winddir\n",
    "windDir_data=df_days['WindDir'] # getting the windspeed  column\n",
    "windDir_data\n"
   ]
  },
  {
   "cell_type": "code",
   "execution_count": 33,
   "metadata": {},
   "outputs": [
    {
     "data": {
      "text/html": [
       "\n",
       "            <div style=\"float: left; border: 1px solid black; width:500px\">\n",
       "              <div id=\"48eae512-0898-43a2-b8f3-dff099bc38b8\" style=\"background-color:blue; width:0%\">&nbsp;</div>\n",
       "            </div>\n",
       "            <label id=\"6c028dba-a052-498e-baad-3c16b91d1daa\" style=\"padding-left: 10px;\" text = \"\"/>\n",
       "            "
      ],
      "text/plain": [
       "<IPython.core.display.HTML object>"
      ]
     },
     "metadata": {},
     "output_type": "display_data"
    },
    {
     "name": "stderr",
     "output_type": "stream",
     "text": [
      "WARNING:root:SKIPPED rv_continuous distribution (taking more than 30 seconds)\n",
      "WARNING:root:SKIPPED rv_histogram distribution (taking more than 30 seconds)\n",
      "WARNING:root:SKIPPED levy_stable distribution (taking more than 30 seconds)\n",
      "WARNING:root:SKIPPED vonmises distribution (taking more than 30 seconds)\n",
      "WARNING:root:SKIPPED vonmises_line distribution (taking more than 30 seconds)\n"
     ]
    },
    {
     "data": {
      "text/html": [
       "<div>\n",
       "<style scoped>\n",
       "    .dataframe tbody tr th:only-of-type {\n",
       "        vertical-align: middle;\n",
       "    }\n",
       "\n",
       "    .dataframe tbody tr th {\n",
       "        vertical-align: top;\n",
       "    }\n",
       "\n",
       "    .dataframe thead th {\n",
       "        text-align: right;\n",
       "    }\n",
       "</style>\n",
       "<table border=\"1\" class=\"dataframe\">\n",
       "  <thead>\n",
       "    <tr style=\"text-align: right;\">\n",
       "      <th></th>\n",
       "      <th>sumsquare_error</th>\n",
       "      <th>aic</th>\n",
       "      <th>bic</th>\n",
       "      <th>kl_div</th>\n",
       "    </tr>\n",
       "  </thead>\n",
       "  <tbody>\n",
       "    <tr>\n",
       "      <th>exponnorm</th>\n",
       "      <td>0.001350</td>\n",
       "      <td>1178.944867</td>\n",
       "      <td>-4143.788758</td>\n",
       "      <td>inf</td>\n",
       "    </tr>\n",
       "    <tr>\n",
       "      <th>genlogistic</th>\n",
       "      <td>0.001351</td>\n",
       "      <td>1176.353636</td>\n",
       "      <td>-4143.609491</td>\n",
       "      <td>inf</td>\n",
       "    </tr>\n",
       "    <tr>\n",
       "      <th>burr</th>\n",
       "      <td>0.001353</td>\n",
       "      <td>1175.294577</td>\n",
       "      <td>-4137.253730</td>\n",
       "      <td>inf</td>\n",
       "    </tr>\n",
       "    <tr>\n",
       "      <th>mielke</th>\n",
       "      <td>0.001353</td>\n",
       "      <td>1175.286734</td>\n",
       "      <td>-4137.249521</td>\n",
       "      <td>inf</td>\n",
       "    </tr>\n",
       "    <tr>\n",
       "      <th>johnsonsu</th>\n",
       "      <td>0.001354</td>\n",
       "      <td>1184.052690</td>\n",
       "      <td>-4137.102346</td>\n",
       "      <td>inf</td>\n",
       "    </tr>\n",
       "  </tbody>\n",
       "</table>\n",
       "</div>"
      ],
      "text/plain": [
       "             sumsquare_error          aic          bic  kl_div\n",
       "exponnorm           0.001350  1178.944867 -4143.788758     inf\n",
       "genlogistic         0.001351  1176.353636 -4143.609491     inf\n",
       "burr                0.001353  1175.294577 -4137.253730     inf\n",
       "mielke              0.001353  1175.286734 -4137.249521     inf\n",
       "johnsonsu           0.001354  1184.052690 -4137.102346     inf"
      ]
     },
     "execution_count": 33,
     "metadata": {},
     "output_type": "execute_result"
    },
    {
     "data": {
      "image/png": "[encoded data removed]",
      "text/plain": [
       "<Figure size 432x288 with 1 Axes>"
      ]
     },
     "metadata": {
      "needs_background": "light"
     },
     "output_type": "display_data"
    }
   ],
   "source": [
    "f=Fitter(windDir_data)\n",
    "f.fit()\n",
    "#may take sometime, since by default it tries all the 80 distributions.\n",
    "#Then it finds the best 5 fits, by selecting the ones with \n",
    "#the lowest  sse(sum square error)\n",
    "f.summary() "
   ]
  },
  {
   "cell_type": "code",
   "execution_count": 35,
   "metadata": {},
   "outputs": [
    {
     "data": {
      "text/html": [
       "\n",
       "            <div style=\"float: left; border: 1px solid black; width:500px\">\n",
       "              <div id=\"3daa4752-e5aa-4cde-9983-33b235e31cd0\" style=\"background-color:blue; width:0%\">&nbsp;</div>\n",
       "            </div>\n",
       "            <label id=\"a5445111-2930-4af0-bcc1-6f31c9e1507f\" style=\"padding-left: 10px;\" text = \"\"/>\n",
       "            "
      ],
      "text/plain": [
       "<IPython.core.display.HTML object>"
      ]
     },
     "metadata": {},
     "output_type": "display_data"
    },
    {
     "data": {
      "text/html": [
       "<div>\n",
       "<style scoped>\n",
       "    .dataframe tbody tr th:only-of-type {\n",
       "        vertical-align: middle;\n",
       "    }\n",
       "\n",
       "    .dataframe tbody tr th {\n",
       "        vertical-align: top;\n",
       "    }\n",
       "\n",
       "    .dataframe thead th {\n",
       "        text-align: right;\n",
       "    }\n",
       "</style>\n",
       "<table border=\"1\" class=\"dataframe\">\n",
       "  <thead>\n",
       "    <tr style=\"text-align: right;\">\n",
       "      <th></th>\n",
       "      <th>sumsquare_error</th>\n",
       "      <th>aic</th>\n",
       "      <th>bic</th>\n",
       "      <th>kl_div</th>\n",
       "    </tr>\n",
       "  </thead>\n",
       "  <tbody>\n",
       "    <tr>\n",
       "      <th>exponnorm</th>\n",
       "      <td>0.00135</td>\n",
       "      <td>1178.944867</td>\n",
       "      <td>-4143.788758</td>\n",
       "      <td>inf</td>\n",
       "    </tr>\n",
       "  </tbody>\n",
       "</table>\n",
       "</div>"
      ],
      "text/plain": [
       "           sumsquare_error          aic          bic  kl_div\n",
       "exponnorm          0.00135  1178.944867 -4143.788758     inf"
      ]
     },
     "execution_count": 35,
     "metadata": {},
     "output_type": "execute_result"
    },
    {
     "data": {
      "image/png": "[encoded data removed]",
      "text/plain": [
       "<Figure size 432x288 with 1 Axes>"
      ]
     },
     "metadata": {
      "needs_background": "light"
     },
     "output_type": "display_data"
    }
   ],
   "source": [
    "#from our results , on the cell above, exponnorm is the best \n",
    "#fit with a ssq of 0.00135\n",
    "#lets use it alone in fitter \n",
    "d=Fitter(windDir_data,distributions=['exponnorm'])\n",
    "d.fit()\n",
    "d.summary()"
   ]
  },
  {
   "cell_type": "code",
   "execution_count": 36,
   "metadata": {},
   "outputs": [
    {
     "data": {
      "text/plain": [
       "0     167.988547\n",
       "1     154.489590\n",
       "2     159.157979\n",
       "3     164.982720\n",
       "4     177.659845\n",
       "5     168.037529\n",
       "6     159.252245\n",
       "7     165.372890\n",
       "8     172.354932\n",
       "9     147.628681\n",
       "10    150.140491\n",
       "11    144.985094\n",
       "Name: WindDir, dtype: float64"
      ]
     },
     "execution_count": 36,
     "metadata": {},
     "output_type": "execute_result"
    }
   ],
   "source": [
    "windDir_data_months=df_months['WindDir'] # getting the windspeed  column\n",
    "windDir_data_months"
   ]
  },
  {
   "cell_type": "code",
   "execution_count": 37,
   "metadata": {},
   "outputs": [
    {
     "data": {
      "text/html": [
       "\n",
       "            <div style=\"float: left; border: 1px solid black; width:500px\">\n",
       "              <div id=\"859d89e7-6d35-43df-904b-8551d56f32db\" style=\"background-color:blue; width:0%\">&nbsp;</div>\n",
       "            </div>\n",
       "            <label id=\"bebd72a0-394a-4655-8c3e-5b2290106bea\" style=\"padding-left: 10px;\" text = \"\"/>\n",
       "            "
      ],
      "text/plain": [
       "<IPython.core.display.HTML object>"
      ]
     },
     "metadata": {},
     "output_type": "display_data"
    },
    {
     "name": "stderr",
     "output_type": "stream",
     "text": [
      "WARNING:root:SKIPPED rv_continuous distribution (taking more than 30 seconds)\n",
      "WARNING:root:SKIPPED rv_histogram distribution (taking more than 30 seconds)\n",
      "WARNING:root:SKIPPED levy_stable distribution (taking more than 30 seconds)\n",
      "WARNING:root:SKIPPED vonmises distribution (taking more than 30 seconds)\n",
      "WARNING:root:SKIPPED vonmises_line distribution (taking more than 30 seconds)\n"
     ]
    },
    {
     "data": {
      "text/html": [
       "<div>\n",
       "<style scoped>\n",
       "    .dataframe tbody tr th:only-of-type {\n",
       "        vertical-align: middle;\n",
       "    }\n",
       "\n",
       "    .dataframe tbody tr th {\n",
       "        vertical-align: top;\n",
       "    }\n",
       "\n",
       "    .dataframe thead th {\n",
       "        text-align: right;\n",
       "    }\n",
       "</style>\n",
       "<table border=\"1\" class=\"dataframe\">\n",
       "  <thead>\n",
       "    <tr style=\"text-align: right;\">\n",
       "      <th></th>\n",
       "      <th>sumsquare_error</th>\n",
       "      <th>aic</th>\n",
       "      <th>bic</th>\n",
       "      <th>kl_div</th>\n",
       "    </tr>\n",
       "  </thead>\n",
       "  <tbody>\n",
       "    <tr>\n",
       "      <th>johnsonsb</th>\n",
       "      <td>0.907196</td>\n",
       "      <td>961.496459</td>\n",
       "      <td>-21.048010</td>\n",
       "      <td>inf</td>\n",
       "    </tr>\n",
       "    <tr>\n",
       "      <th>arcsine</th>\n",
       "      <td>0.928417</td>\n",
       "      <td>759.993917</td>\n",
       "      <td>-25.740357</td>\n",
       "      <td>inf</td>\n",
       "    </tr>\n",
       "    <tr>\n",
       "      <th>rdist</th>\n",
       "      <td>0.930983</td>\n",
       "      <td>758.844720</td>\n",
       "      <td>-23.222330</td>\n",
       "      <td>inf</td>\n",
       "    </tr>\n",
       "    <tr>\n",
       "      <th>kappa4</th>\n",
       "      <td>0.945958</td>\n",
       "      <td>705.545759</td>\n",
       "      <td>-20.545935</td>\n",
       "      <td>inf</td>\n",
       "    </tr>\n",
       "    <tr>\n",
       "      <th>tukeylambda</th>\n",
       "      <td>0.946463</td>\n",
       "      <td>705.261242</td>\n",
       "      <td>-23.024439</td>\n",
       "      <td>inf</td>\n",
       "    </tr>\n",
       "  </tbody>\n",
       "</table>\n",
       "</div>"
      ],
      "text/plain": [
       "             sumsquare_error         aic        bic  kl_div\n",
       "johnsonsb           0.907196  961.496459 -21.048010     inf\n",
       "arcsine             0.928417  759.993917 -25.740357     inf\n",
       "rdist               0.930983  758.844720 -23.222330     inf\n",
       "kappa4              0.945958  705.545759 -20.545935     inf\n",
       "tukeylambda         0.946463  705.261242 -23.024439     inf"
      ]
     },
     "execution_count": 37,
     "metadata": {},
     "output_type": "execute_result"
    },
    {
     "data": {
      "image/png": "[encoded data removed]",
      "text/plain": [
       "<Figure size 432x288 with 1 Axes>"
      ]
     },
     "metadata": {
      "needs_background": "light"
     },
     "output_type": "display_data"
    }
   ],
   "source": [
    "f=Fitter(windDir_data_months) # fitting for the months\n",
    "f.fit()\n",
    "#may take sometime, since by default it tries all the 80 distributions.\n",
    "#Then it finds the best 5 fits, by selecting the ones with \n",
    "#the lowest  sse(sum square error)\n",
    "f.summary() "
   ]
  },
  {
   "cell_type": "code",
   "execution_count": 38,
   "metadata": {},
   "outputs": [
    {
     "data": {
      "text/html": [
       "\n",
       "            <div style=\"float: left; border: 1px solid black; width:500px\">\n",
       "              <div id=\"45b36c6a-c18c-4f11-957b-ccf362722300\" style=\"background-color:blue; width:0%\">&nbsp;</div>\n",
       "            </div>\n",
       "            <label id=\"ceb83280-87af-44c4-8c76-30ec18fc8c6f\" style=\"padding-left: 10px;\" text = \"\"/>\n",
       "            "
      ],
      "text/plain": [
       "<IPython.core.display.HTML object>"
      ]
     },
     "metadata": {},
     "output_type": "display_data"
    },
    {
     "data": {
      "text/html": [
       "<div>\n",
       "<style scoped>\n",
       "    .dataframe tbody tr th:only-of-type {\n",
       "        vertical-align: middle;\n",
       "    }\n",
       "\n",
       "    .dataframe tbody tr th {\n",
       "        vertical-align: top;\n",
       "    }\n",
       "\n",
       "    .dataframe thead th {\n",
       "        text-align: right;\n",
       "    }\n",
       "</style>\n",
       "<table border=\"1\" class=\"dataframe\">\n",
       "  <thead>\n",
       "    <tr style=\"text-align: right;\">\n",
       "      <th></th>\n",
       "      <th>sumsquare_error</th>\n",
       "      <th>aic</th>\n",
       "      <th>bic</th>\n",
       "      <th>kl_div</th>\n",
       "    </tr>\n",
       "  </thead>\n",
       "  <tbody>\n",
       "    <tr>\n",
       "      <th>johnsonsb</th>\n",
       "      <td>0.907196</td>\n",
       "      <td>961.496459</td>\n",
       "      <td>-21.04801</td>\n",
       "      <td>inf</td>\n",
       "    </tr>\n",
       "  </tbody>\n",
       "</table>\n",
       "</div>"
      ],
      "text/plain": [
       "           sumsquare_error         aic       bic  kl_div\n",
       "johnsonsb         0.907196  961.496459 -21.04801     inf"
      ]
     },
     "execution_count": 38,
     "metadata": {},
     "output_type": "execute_result"
    },
    {
     "data": {
      "image/png": "[encoded data removed]",
      "text/plain": [
       "<Figure size 432x288 with 1 Axes>"
      ]
     },
     "metadata": {
      "needs_background": "light"
     },
     "output_type": "display_data"
    },
    {
     "name": "stderr",
     "output_type": "stream",
     "text": [
      "c:\\program files (x86)\\python37-32\\lib\\site-packages\\scipy\\stats\\_continuous_distns.py:4357: IntegrationWarning: The integral is probably divergent, or slowly convergent.\n",
      "  intg = integrate.quad(f, -xi, np.pi/2, **intg_kwargs)[0]\n"
     ]
    }
   ],
   "source": [
    "#From the cell above the bes fit is johnsonsb\n",
    "f=Fitter(windDir_data_months,distributions=['johnsonsb']) \n",
    "f.fit()\n",
    "f.summary() "
   ]
  },
  {
   "cell_type": "code",
   "execution_count": 39,
   "metadata": {},
   "outputs": [
    {
     "data": {
      "text/html": [
       "\n",
       "            <div style=\"float: left; border: 1px solid black; width:500px\">\n",
       "              <div id=\"d81b4c0b-88f5-43f3-bffd-c31e6a9d4f5a\" style=\"background-color:blue; width:0%\">&nbsp;</div>\n",
       "            </div>\n",
       "            <label id=\"11e0b580-3993-4662-b108-bcbdb4759147\" style=\"padding-left: 10px;\" text = \"\"/>\n",
       "            "
      ],
      "text/plain": [
       "<IPython.core.display.HTML object>"
      ]
     },
     "metadata": {},
     "output_type": "display_data"
    },
    {
     "name": "stderr",
     "output_type": "stream",
     "text": [
      "WARNING:root:SKIPPED anglit distribution (taking more than 30 seconds)\n",
      "WARNING:root:SKIPPED alpha distribution (taking more than 30 seconds)\n",
      "WARNING:root:SKIPPED arcsine distribution (taking more than 30 seconds)\n",
      "WARNING:root:SKIPPED beta distribution (taking more than 30 seconds)\n",
      "WARNING:root:SKIPPED betaprime distribution (taking more than 30 seconds)\n",
      "WARNING:root:SKIPPED bradford distribution (taking more than 30 seconds)\n",
      "WARNING:root:SKIPPED burr distribution (taking more than 30 seconds)\n",
      "WARNING:root:SKIPPED burr12 distribution (taking more than 30 seconds)\n",
      "WARNING:root:SKIPPED cauchy distribution (taking more than 30 seconds)\n",
      "WARNING:root:SKIPPED chi distribution (taking more than 30 seconds)\n",
      "WARNING:root:SKIPPED chi2 distribution (taking more than 30 seconds)\n",
      "WARNING:root:SKIPPED cosine distribution (taking more than 30 seconds)\n",
      "WARNING:root:SKIPPED crystalball distribution (taking more than 30 seconds)\n",
      "WARNING:root:SKIPPED dgamma distribution (taking more than 30 seconds)\n",
      "WARNING:root:SKIPPED dweibull distribution (taking more than 30 seconds)\n",
      "WARNING:root:SKIPPED erlang distribution (taking more than 30 seconds)\n",
      "WARNING:root:SKIPPED expon distribution (taking more than 30 seconds)\n",
      "WARNING:root:SKIPPED exponnorm distribution (taking more than 30 seconds)\n",
      "WARNING:root:SKIPPED f distribution (taking more than 30 seconds)\n",
      "WARNING:root:SKIPPED fatiguelife distribution (taking more than 30 seconds)\n",
      "WARNING:root:SKIPPED fisk distribution (taking more than 30 seconds)\n",
      "WARNING:root:SKIPPED exponpow distribution (taking more than 30 seconds)\n",
      "WARNING:root:SKIPPED foldcauchy distribution (taking more than 30 seconds)\n",
      "WARNING:root:SKIPPED foldnorm distribution (taking more than 30 seconds)\n",
      "WARNING:root:SKIPPED frechet_l distribution (taking more than 30 seconds)\n",
      "WARNING:root:SKIPPED exponweib distribution (taking more than 30 seconds)\n",
      "WARNING:root:SKIPPED frechet_r distribution (taking more than 30 seconds)\n",
      "WARNING:root:SKIPPED gamma distribution (taking more than 30 seconds)\n",
      "WARNING:root:SKIPPED gausshyper distribution (taking more than 30 seconds)\n",
      "WARNING:root:SKIPPED genextreme distribution (taking more than 30 seconds)\n",
      "WARNING:root:SKIPPED gengamma distribution (taking more than 30 seconds)\n",
      "WARNING:root:SKIPPED geninvgauss distribution (taking more than 30 seconds)\n",
      "WARNING:root:SKIPPED genhalflogistic distribution (taking more than 30 seconds)\n",
      "WARNING:root:SKIPPED argus distribution (taking more than 30 seconds)\n",
      "WARNING:root:SKIPPED genlogistic distribution (taking more than 30 seconds)\n",
      "WARNING:root:SKIPPED gennorm distribution (taking more than 30 seconds)\n",
      "WARNING:root:SKIPPED genpareto distribution (taking more than 30 seconds)\n",
      "WARNING:root:SKIPPED gilbrat distribution (taking more than 30 seconds)\n",
      "WARNING:root:SKIPPED gumbel_l distribution (taking more than 30 seconds)\n",
      "WARNING:root:SKIPPED gumbel_r distribution (taking more than 30 seconds)\n",
      "WARNING:root:SKIPPED halfcauchy distribution (taking more than 30 seconds)\n",
      "WARNING:root:SKIPPED halflogistic distribution (taking more than 30 seconds)\n",
      "WARNING:root:SKIPPED halfnorm distribution (taking more than 30 seconds)\n",
      "WARNING:root:SKIPPED hypsecant distribution (taking more than 30 seconds)\n",
      "WARNING:root:SKIPPED invgamma distribution (taking more than 30 seconds)\n",
      "WARNING:root:SKIPPED gompertz distribution (taking more than 30 seconds)\n",
      "WARNING:root:SKIPPED invgauss distribution (taking more than 30 seconds)\n",
      "WARNING:root:SKIPPED invweibull distribution (taking more than 30 seconds)\n",
      "WARNING:root:SKIPPED halfgennorm distribution (taking more than 30 seconds)\n",
      "WARNING:root:SKIPPED kappa3 distribution (taking more than 30 seconds)\n",
      "WARNING:root:SKIPPED kappa4 distribution (taking more than 30 seconds)\n",
      "WARNING:root:SKIPPED ksone distribution (taking more than 30 seconds)\n",
      "WARNING:root:SKIPPED johnsonsb distribution (taking more than 30 seconds)\n",
      "WARNING:root:SKIPPED kstwobign distribution (taking more than 30 seconds)\n",
      "WARNING:root:SKIPPED laplace distribution (taking more than 30 seconds)\n",
      "WARNING:root:SKIPPED johnsonsu distribution (taking more than 30 seconds)\n",
      "WARNING:root:SKIPPED levy distribution (taking more than 30 seconds)\n",
      "WARNING:root:SKIPPED levy_l distribution (taking more than 30 seconds)\n",
      "WARNING:root:SKIPPED levy_stable distribution (taking more than 30 seconds)\n",
      "WARNING:root:SKIPPED loggamma distribution (taking more than 30 seconds)\n",
      "WARNING:root:SKIPPED logistic distribution (taking more than 30 seconds)\n",
      "WARNING:root:SKIPPED loglaplace distribution (taking more than 30 seconds)\n",
      "WARNING:root:SKIPPED lognorm distribution (taking more than 30 seconds)\n",
      "WARNING:root:SKIPPED lomax distribution (taking more than 30 seconds)\n",
      "WARNING:root:SKIPPED maxwell distribution (taking more than 30 seconds)\n",
      "WARNING:root:SKIPPED mielke distribution (taking more than 30 seconds)\n",
      "WARNING:root:SKIPPED moyal distribution (taking more than 30 seconds)\n",
      "WARNING:root:SKIPPED nakagami distribution (taking more than 30 seconds)\n",
      "WARNING:root:SKIPPED ncf distribution (taking more than 30 seconds)\n",
      "WARNING:root:SKIPPED nct distribution (taking more than 30 seconds)\n",
      "WARNING:root:SKIPPED ncx2 distribution (taking more than 30 seconds)\n",
      "WARNING:root:SKIPPED genexpon distribution (taking more than 30 seconds)\n",
      "WARNING:root:SKIPPED norminvgauss distribution (taking more than 30 seconds)\n",
      "WARNING:root:SKIPPED pareto distribution (taking more than 30 seconds)\n",
      "WARNING:root:SKIPPED pearson3 distribution (taking more than 30 seconds)\n",
      "WARNING:root:SKIPPED powerlaw distribution (taking more than 30 seconds)\n",
      "WARNING:root:SKIPPED rayleigh distribution (taking more than 30 seconds)\n",
      "WARNING:root:SKIPPED rdist distribution (taking more than 30 seconds)\n",
      "WARNING:root:SKIPPED rice distribution (taking more than 30 seconds)\n",
      "WARNING:root:SKIPPED rv_continuous distribution (taking more than 30 seconds)\n",
      "WARNING:root:SKIPPED rv_histogram distribution (taking more than 30 seconds)\n",
      "WARNING:root:SKIPPED powernorm distribution (taking more than 30 seconds)\n",
      "WARNING:root:SKIPPED semicircular distribution (taking more than 30 seconds)\n",
      "WARNING:root:SKIPPED skewnorm distribution (taking more than 30 seconds)\n",
      "WARNING:root:SKIPPED t distribution (taking more than 30 seconds)\n",
      "WARNING:root:SKIPPED triang distribution (taking more than 30 seconds)\n",
      "WARNING:root:SKIPPED truncexpon distribution (taking more than 30 seconds)\n",
      "WARNING:root:SKIPPED tukeylambda distribution (taking more than 30 seconds)\n",
      "WARNING:root:SKIPPED uniform distribution (taking more than 30 seconds)\n",
      "WARNING:root:SKIPPED powerlognorm distribution (taking more than 30 seconds)\n",
      "WARNING:root:SKIPPED trapz distribution (taking more than 30 seconds)\n",
      "WARNING:root:SKIPPED wald distribution (taking more than 30 seconds)\n",
      "WARNING:root:SKIPPED weibull_max distribution (taking more than 30 seconds)\n",
      "WARNING:root:SKIPPED weibull_min distribution (taking more than 30 seconds)\n",
      "WARNING:root:SKIPPED wrapcauchy distribution (taking more than 30 seconds)\n",
      "WARNING:root:SKIPPED recipinvgauss distribution (taking more than 30 seconds)\n",
      "WARNING:root:SKIPPED vonmises distribution (taking more than 30 seconds)\n",
      "WARNING:root:SKIPPED vonmises_line distribution (taking more than 30 seconds)\n",
      "WARNING:fitter.fitter:anglit was not fitted. no parameters available\n",
      "WARNING:fitter.fitter:ncx2 was not fitted. no parameters available\n",
      "WARNING:fitter.fitter:nct was not fitted. no parameters available\n",
      "WARNING:fitter.fitter:ncf was not fitted. no parameters available\n",
      "WARNING:fitter.fitter:nakagami was not fitted. no parameters available\n",
      "WARNING:matplotlib.legend:No handles with labels found to put in legend.\n"
     ]
    },
    {
     "data": {
      "text/html": [
       "<div>\n",
       "<style scoped>\n",
       "    .dataframe tbody tr th:only-of-type {\n",
       "        vertical-align: middle;\n",
       "    }\n",
       "\n",
       "    .dataframe tbody tr th {\n",
       "        vertical-align: top;\n",
       "    }\n",
       "\n",
       "    .dataframe thead th {\n",
       "        text-align: right;\n",
       "    }\n",
       "</style>\n",
       "<table border=\"1\" class=\"dataframe\">\n",
       "  <thead>\n",
       "    <tr style=\"text-align: right;\">\n",
       "      <th></th>\n",
       "      <th>sumsquare_error</th>\n",
       "      <th>aic</th>\n",
       "      <th>bic</th>\n",
       "      <th>kl_div</th>\n",
       "    </tr>\n",
       "  </thead>\n",
       "  <tbody>\n",
       "    <tr>\n",
       "      <th>anglit</th>\n",
       "      <td>inf</td>\n",
       "      <td>inf</td>\n",
       "      <td>inf</td>\n",
       "      <td>inf</td>\n",
       "    </tr>\n",
       "    <tr>\n",
       "      <th>ncx2</th>\n",
       "      <td>inf</td>\n",
       "      <td>inf</td>\n",
       "      <td>inf</td>\n",
       "      <td>inf</td>\n",
       "    </tr>\n",
       "    <tr>\n",
       "      <th>nct</th>\n",
       "      <td>inf</td>\n",
       "      <td>inf</td>\n",
       "      <td>inf</td>\n",
       "      <td>inf</td>\n",
       "    </tr>\n",
       "    <tr>\n",
       "      <th>ncf</th>\n",
       "      <td>inf</td>\n",
       "      <td>inf</td>\n",
       "      <td>inf</td>\n",
       "      <td>inf</td>\n",
       "    </tr>\n",
       "    <tr>\n",
       "      <th>nakagami</th>\n",
       "      <td>inf</td>\n",
       "      <td>inf</td>\n",
       "      <td>inf</td>\n",
       "      <td>inf</td>\n",
       "    </tr>\n",
       "  </tbody>\n",
       "</table>\n",
       "</div>"
      ],
      "text/plain": [
       "          sumsquare_error  aic  bic  kl_div\n",
       "anglit                inf  inf  inf     inf\n",
       "ncx2                  inf  inf  inf     inf\n",
       "nct                   inf  inf  inf     inf\n",
       "ncf                   inf  inf  inf     inf\n",
       "nakagami              inf  inf  inf     inf"
      ]
     },
     "execution_count": 39,
     "metadata": {},
     "output_type": "execute_result"
    },
    {
     "data": {
      "image/png": "[encoded data removed]",
      "text/plain": [
       "<Figure size 432x288 with 1 Axes>"
      ]
     },
     "metadata": {
      "needs_background": "light"
     },
     "output_type": "display_data"
    }
   ],
   "source": [
    "s=Fitter(df['WindDir']) # tried for all the values  of the winddir and didnt find a best  fit  \n",
    "s.fit()\n",
    "s.summary()"
   ]
  },
  {
   "cell_type": "code",
   "execution_count": 40,
   "metadata": {},
   "outputs": [
    {
     "data": {
      "text/html": [
       "\n",
       "            <div style=\"float: left; border: 1px solid black; width:500px\">\n",
       "              <div id=\"17bbe5a4-8ca1-4691-922a-7108c9f87e22\" style=\"background-color:blue; width:0%\">&nbsp;</div>\n",
       "            </div>\n",
       "            <label id=\"e4476ab8-d20b-476a-85fd-260a335ec775\" style=\"padding-left: 10px;\" text = \"\"/>\n",
       "            "
      ],
      "text/plain": [
       "<IPython.core.display.HTML object>"
      ]
     },
     "metadata": {},
     "output_type": "display_data"
    },
    {
     "name": "stderr",
     "output_type": "stream",
     "text": [
      "WARNING:root:SKIPPED alpha distribution (taking more than 30 seconds)\n",
      "WARNING:root:SKIPPED arcsine distribution (taking more than 30 seconds)\n",
      "WARNING:root:SKIPPED argus distribution (taking more than 30 seconds)\n",
      "WARNING:root:SKIPPED beta distribution (taking more than 30 seconds)\n",
      "WARNING:root:SKIPPED betaprime distribution (taking more than 30 seconds)\n",
      "WARNING:root:SKIPPED bradford distribution (taking more than 30 seconds)\n",
      "WARNING:root:SKIPPED burr distribution (taking more than 30 seconds)\n",
      "WARNING:root:SKIPPED burr12 distribution (taking more than 30 seconds)\n",
      "WARNING:root:SKIPPED chi distribution (taking more than 30 seconds)\n",
      "WARNING:root:SKIPPED chi2 distribution (taking more than 30 seconds)\n",
      "WARNING:root:SKIPPED crystalball distribution (taking more than 30 seconds)\n",
      "WARNING:root:SKIPPED dweibull distribution (taking more than 30 seconds)\n",
      "WARNING:root:SKIPPED erlang distribution (taking more than 30 seconds)\n",
      "WARNING:root:SKIPPED exponnorm distribution (taking more than 30 seconds)\n",
      "WARNING:root:SKIPPED exponpow distribution (taking more than 30 seconds)\n",
      "WARNING:root:SKIPPED exponweib distribution (taking more than 30 seconds)\n",
      "WARNING:root:SKIPPED f distribution (taking more than 30 seconds)\n",
      "WARNING:root:SKIPPED fatiguelife distribution (taking more than 30 seconds)\n",
      "WARNING:root:SKIPPED fisk distribution (taking more than 30 seconds)\n",
      "WARNING:root:SKIPPED foldcauchy distribution (taking more than 30 seconds)\n",
      "WARNING:root:SKIPPED foldnorm distribution (taking more than 30 seconds)\n",
      "WARNING:root:SKIPPED frechet_l distribution (taking more than 30 seconds)\n",
      "WARNING:root:SKIPPED frechet_r distribution (taking more than 30 seconds)\n",
      "WARNING:root:SKIPPED gamma distribution (taking more than 30 seconds)\n",
      "WARNING:root:SKIPPED gausshyper distribution (taking more than 30 seconds)\n",
      "WARNING:root:SKIPPED genexpon distribution (taking more than 30 seconds)\n",
      "WARNING:root:SKIPPED genextreme distribution (taking more than 30 seconds)\n",
      "WARNING:root:SKIPPED gengamma distribution (taking more than 30 seconds)\n",
      "WARNING:root:SKIPPED genhalflogistic distribution (taking more than 30 seconds)\n",
      "WARNING:root:SKIPPED geninvgauss distribution (taking more than 30 seconds)\n",
      "WARNING:root:SKIPPED genlogistic distribution (taking more than 30 seconds)\n",
      "WARNING:root:SKIPPED gennorm distribution (taking more than 30 seconds)\n",
      "WARNING:root:SKIPPED genpareto distribution (taking more than 30 seconds)\n",
      "WARNING:root:SKIPPED gilbrat distribution (taking more than 30 seconds)\n",
      "WARNING:root:SKIPPED gompertz distribution (taking more than 30 seconds)\n",
      "c:\\program files (x86)\\python37-32\\lib\\site-packages\\scipy\\stats\\_continuous_distns.py:4357: IntegrationWarning: The integral is probably divergent, or slowly convergent.\n",
      "  intg = integrate.quad(f, -xi, np.pi/2, **intg_kwargs)[0]\n",
      "WARNING:root:SKIPPED halfcauchy distribution (taking more than 30 seconds)\n",
      "WARNING:root:SKIPPED halfgennorm distribution (taking more than 30 seconds)\n",
      "WARNING:root:SKIPPED halflogistic distribution (taking more than 30 seconds)\n",
      "WARNING:root:SKIPPED halfnorm distribution (taking more than 30 seconds)\n",
      "WARNING:root:SKIPPED invgamma distribution (taking more than 30 seconds)\n",
      "WARNING:root:SKIPPED invgauss distribution (taking more than 30 seconds)\n",
      "WARNING:root:SKIPPED invweibull distribution (taking more than 30 seconds)\n",
      "WARNING:root:SKIPPED johnsonsb distribution (taking more than 30 seconds)\n",
      "WARNING:root:SKIPPED johnsonsu distribution (taking more than 30 seconds)\n",
      "WARNING:root:SKIPPED kappa3 distribution (taking more than 30 seconds)\n",
      "WARNING:root:SKIPPED kappa4 distribution (taking more than 30 seconds)\n",
      "WARNING:root:SKIPPED ksone distribution (taking more than 30 seconds)\n",
      "WARNING:root:SKIPPED levy distribution (taking more than 30 seconds)\n",
      "WARNING:root:SKIPPED levy_l distribution (taking more than 30 seconds)\n",
      "WARNING:root:SKIPPED levy_stable distribution (taking more than 30 seconds)\n",
      "WARNING:root:SKIPPED loggamma distribution (taking more than 30 seconds)\n",
      "WARNING:root:SKIPPED loglaplace distribution (taking more than 30 seconds)\n",
      "WARNING:root:SKIPPED lognorm distribution (taking more than 30 seconds)\n",
      "WARNING:root:SKIPPED loguniform distribution (taking more than 30 seconds)\n",
      "WARNING:root:SKIPPED lomax distribution (taking more than 30 seconds)\n",
      "WARNING:root:SKIPPED mielke distribution (taking more than 30 seconds)\n",
      "WARNING:root:SKIPPED nakagami distribution (taking more than 30 seconds)\n",
      "WARNING:root:SKIPPED ncf distribution (taking more than 30 seconds)\n",
      "WARNING:root:SKIPPED nct distribution (taking more than 30 seconds)\n",
      "WARNING:root:SKIPPED ncx2 distribution (taking more than 30 seconds)\n",
      "WARNING:root:SKIPPED norminvgauss distribution (taking more than 30 seconds)\n",
      "WARNING:root:SKIPPED pareto distribution (taking more than 30 seconds)\n",
      "WARNING:root:SKIPPED pearson3 distribution (taking more than 30 seconds)\n",
      "WARNING:root:SKIPPED powerlaw distribution (taking more than 30 seconds)\n",
      "WARNING:root:SKIPPED powerlognorm distribution (taking more than 30 seconds)\n",
      "WARNING:root:SKIPPED powernorm distribution (taking more than 30 seconds)\n",
      "WARNING:root:SKIPPED rdist distribution (taking more than 30 seconds)\n",
      "WARNING:root:SKIPPED rv_continuous distribution (taking more than 30 seconds)\n",
      "WARNING:root:SKIPPED rv_histogram distribution (taking more than 30 seconds)\n",
      "WARNING:root:SKIPPED recipinvgauss distribution (taking more than 30 seconds)\n",
      "WARNING:root:SKIPPED reciprocal distribution (taking more than 30 seconds)\n",
      "WARNING:root:SKIPPED rice distribution (taking more than 30 seconds)\n",
      "WARNING:root:SKIPPED skewnorm distribution (taking more than 30 seconds)\n",
      "WARNING:root:SKIPPED t distribution (taking more than 30 seconds)\n",
      "WARNING:root:SKIPPED trapz distribution (taking more than 30 seconds)\n",
      "WARNING:root:SKIPPED triang distribution (taking more than 30 seconds)\n",
      "WARNING:root:SKIPPED truncexpon distribution (taking more than 30 seconds)\n",
      "WARNING:root:SKIPPED truncnorm distribution (taking more than 30 seconds)\n",
      "WARNING:root:SKIPPED tukeylambda distribution (taking more than 30 seconds)\n",
      "WARNING:root:SKIPPED vonmises distribution (taking more than 30 seconds)\n",
      "WARNING:root:SKIPPED vonmises_line distribution (taking more than 30 seconds)\n",
      "WARNING:root:SKIPPED wald distribution (taking more than 30 seconds)\n",
      "WARNING:root:SKIPPED weibull_max distribution (taking more than 30 seconds)\n",
      "WARNING:root:SKIPPED weibull_min distribution (taking more than 30 seconds)\n"
     ]
    },
    {
     "data": {
      "text/html": [
       "<div>\n",
       "<style scoped>\n",
       "    .dataframe tbody tr th:only-of-type {\n",
       "        vertical-align: middle;\n",
       "    }\n",
       "\n",
       "    .dataframe tbody tr th {\n",
       "        vertical-align: top;\n",
       "    }\n",
       "\n",
       "    .dataframe thead th {\n",
       "        text-align: right;\n",
       "    }\n",
       "</style>\n",
       "<table border=\"1\" class=\"dataframe\">\n",
       "  <thead>\n",
       "    <tr style=\"text-align: right;\">\n",
       "      <th></th>\n",
       "      <th>sumsquare_error</th>\n",
       "      <th>aic</th>\n",
       "      <th>bic</th>\n",
       "      <th>kl_div</th>\n",
       "    </tr>\n",
       "  </thead>\n",
       "  <tbody>\n",
       "    <tr>\n",
       "      <th>uniform</th>\n",
       "      <td>0.000128</td>\n",
       "      <td>1175.976730</td>\n",
       "      <td>-181746.048886</td>\n",
       "      <td>0.092248</td>\n",
       "    </tr>\n",
       "    <tr>\n",
       "      <th>semicircular</th>\n",
       "      <td>0.000177</td>\n",
       "      <td>1187.219283</td>\n",
       "      <td>-178469.626142</td>\n",
       "      <td>0.083199</td>\n",
       "    </tr>\n",
       "    <tr>\n",
       "      <th>anglit</th>\n",
       "      <td>0.000215</td>\n",
       "      <td>1197.014248</td>\n",
       "      <td>-176513.019059</td>\n",
       "      <td>0.109706</td>\n",
       "    </tr>\n",
       "    <tr>\n",
       "      <th>cosine</th>\n",
       "      <td>0.000232</td>\n",
       "      <td>1203.889083</td>\n",
       "      <td>-175777.397857</td>\n",
       "      <td>0.122337</td>\n",
       "    </tr>\n",
       "    <tr>\n",
       "      <th>expon</th>\n",
       "      <td>0.000237</td>\n",
       "      <td>1238.067972</td>\n",
       "      <td>-175560.497162</td>\n",
       "      <td>0.191674</td>\n",
       "    </tr>\n",
       "  </tbody>\n",
       "</table>\n",
       "</div>"
      ],
      "text/plain": [
       "              sumsquare_error          aic            bic    kl_div\n",
       "uniform              0.000128  1175.976730 -181746.048886  0.092248\n",
       "semicircular         0.000177  1187.219283 -178469.626142  0.083199\n",
       "anglit               0.000215  1197.014248 -176513.019059  0.109706\n",
       "cosine               0.000232  1203.889083 -175777.397857  0.122337\n",
       "expon                0.000237  1238.067972 -175560.497162  0.191674"
      ]
     },
     "execution_count": 40,
     "metadata": {},
     "output_type": "execute_result"
    },
    {
     "name": "stderr",
     "output_type": "stream",
     "text": [
      "c:\\program files (x86)\\python37-32\\lib\\site-packages\\scipy\\stats\\_continuous_distns.py:4357: IntegrationWarning: The integral is probably divergent, or slowly convergent.\n",
      "  intg = integrate.quad(f, -xi, np.pi/2, **intg_kwargs)[0]\n"
     ]
    },
    {
     "data": {
      "image/png": "[encoded data removed]",
      "text/plain": [
       "<Figure size 432x288 with 1 Axes>"
      ]
     },
     "metadata": {
      "needs_background": "light"
     },
     "output_type": "display_data"
    }
   ],
   "source": [
    "s=Fitter(df['WindDir'][:10000]) # tried for all the values  of the winddir and didnt find a best  fit  \n",
    "s.fit()\n",
    "#will take sometime\n",
    "s.summary()"
   ]
  },
  {
   "cell_type": "code",
   "execution_count": 41,
   "metadata": {},
   "outputs": [],
   "source": [
    "#  from the cell above the best fit for the first 10,000 data is a uniform distribution "
   ]
  },
  {
   "cell_type": "code",
   "execution_count": null,
   "metadata": {},
   "outputs": [],
   "source": []
  }
 ],
 "metadata": {
  "kernelspec": {
   "display_name": "Python 3",
   "language": "python",
   "name": "python3"
  },
  "language_info": {
   "codemirror_mode": {
    "name": "ipython",
    "version": 3
   },
   "file_extension": ".py",
   "mimetype": "text/x-python",
   "name": "python",
   "nbconvert_exporter": "python",
   "pygments_lexer": "ipython3",
   "version": "3.7.2"
  }
 },
 "nbformat": 4,
 "nbformat_minor": 4
}
